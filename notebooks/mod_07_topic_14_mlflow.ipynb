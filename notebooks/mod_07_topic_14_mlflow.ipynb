{
 "cells": [
  {
   "cell_type": "markdown",
   "metadata": {},
   "source": [
    "# Практика використання MLFlow Tracking. Огляд структури файлу"
   ]
  },
  {
   "cell_type": "markdown",
   "metadata": {},
   "source": [
    "### Завантаження й логування базового ML-конвеєра"
   ]
  },
  {
   "cell_type": "code",
   "execution_count": 1,
   "metadata": {},
   "outputs": [],
   "source": [
    "import warnings\n",
    "from tempfile import mkdtemp\n",
    "import mlflow\n",
    "import joblib\n",
    "import pandas as pd\n",
    "import numpy as np\n",
    "from sklearn.ensemble import GradientBoostingRegressor\n",
    "from sklearn.model_selection import cross_val_score, GridSearchCV\n",
    "from sklearn.pipeline import Pipeline"
   ]
  },
  {
   "cell_type": "code",
   "execution_count": 2,
   "metadata": {},
   "outputs": [
    {
     "name": "stderr",
     "output_type": "stream",
     "text": [
      "2024/04/25 11:07:38 INFO mlflow.tracking.fluent: Experiment with name 'MLflow Tracking' does not exist. Creating a new experiment.\n"
     ]
    },
    {
     "data": {
      "text/plain": [
       "<Experiment: artifact_location='mlflow-artifacts:/628208682583378101', creation_time=1714032458164, experiment_id='628208682583378101', last_update_time=1714032458164, lifecycle_stage='active', name='MLflow Tracking', tags={}>"
      ]
     },
     "execution_count": 2,
     "metadata": {},
     "output_type": "execute_result"
    }
   ],
   "source": [
    "mlflow.set_tracking_uri(uri='http://127.0.0.1:8080')\n",
    "mlflow.set_experiment('MLflow Tracking')"
   ]
  },
  {
   "cell_type": "code",
   "execution_count": 3,
   "metadata": {},
   "outputs": [],
   "source": [
    "data = pd.read_pickle('../derived/mod_07_topic_13_bigmart_data_upd.pkl.gz')\n",
    "\n",
    "X, y = (data.drop(['Item_Identifier',\n",
    "                   'Item_Outlet_Sales'],\n",
    "                  axis=1),\n",
    "        data['Item_Outlet_Sales'])"
   ]
  },
  {
   "cell_type": "code",
   "execution_count": 4,
   "metadata": {},
   "outputs": [],
   "source": [
    "with open('../models/mod_07_topic_13_mlpipe.joblib', 'rb') as fl:\n",
    "    pipe_base = joblib.load(fl)"
   ]
  },
  {
   "cell_type": "code",
   "execution_count": 5,
   "metadata": {},
   "outputs": [
    {
     "name": "stdout",
     "output_type": "stream",
     "text": [
      "Pipe's RMSE on CV: 1122.6\n"
     ]
    }
   ],
   "source": [
    "cv_results = cross_val_score(\n",
    "    estimator=pipe_base,\n",
    "    X=X,\n",
    "    y=y,\n",
    "    scoring='neg_root_mean_squared_error',\n",
    "    cv=5)\n",
    "\n",
    "rmse_cv = np.abs(cv_results).mean()\n",
    "\n",
    "print(f\"Pipe's RMSE on CV: {rmse_cv:.1f}\")"
   ]
  },
  {
   "cell_type": "code",
   "execution_count": 6,
   "metadata": {},
   "outputs": [],
   "source": [
    "model_base = pipe_base.fit(X, y)"
   ]
  },
  {
   "cell_type": "code",
   "execution_count": 7,
   "metadata": {},
   "outputs": [],
   "source": [
    "params_base = pipe_base.named_steps['reg_estimator'].get_params()"
   ]
  },
  {
   "cell_type": "code",
   "execution_count": 8,
   "metadata": {},
   "outputs": [
    {
     "name": "stderr",
     "output_type": "stream",
     "text": [
      "Successfully registered model 'model_base_tracking'.\n",
      "2024/04/25 11:07:56 INFO mlflow.store.model_registry.abstract_store: Waiting up to 300 seconds for model version to finish creation. Model name: model_base_tracking, version 1\n",
      "Created version '1' of model 'model_base_tracking'.\n"
     ]
    }
   ],
   "source": [
    "# Start an MLflow run\n",
    "with mlflow.start_run(run_name='rfr'):\n",
    "\n",
    "     with warnings.catch_warnings():\n",
    "        warnings.simplefilter('ignore')\n",
    "         \n",
    "        # Log the hyperparameters\n",
    "        mlflow.log_params(params_base)\n",
    "        # Log the loss metric\n",
    "        mlflow.log_metric('cv_rmse_score', rmse_cv)\n",
    "        # Set a tag that we can use to remind ourselves what this run was for\n",
    "        mlflow.set_tag('Model', 'RandomForest for BigMart')\n",
    "               \n",
    "        # Infer the model signature\n",
    "        signature = mlflow.models.infer_signature(\n",
    "            X.head(),\n",
    "            model_base.predict(X.head()))\n",
    "\n",
    "        # Log the model\n",
    "        model_info = mlflow.sklearn.log_model(\n",
    "            sk_model=model_base,\n",
    "            artifact_path='model_base',\n",
    "            signature=signature,\n",
    "            input_example=X.head(),\n",
    "            registered_model_name='model_base_tracking')"
   ]
  },
  {
   "cell_type": "markdown",
   "metadata": {},
   "source": [
    "### Модифікація й підбір гіперпараметрів ML-конвеєра"
   ]
  },
  {
   "cell_type": "code",
   "execution_count": 9,
   "metadata": {},
   "outputs": [],
   "source": [
    "pipe_upd = Pipeline(\n",
    "    steps=pipe_base.steps[:-1] +\n",
    "    [('reg_model',\n",
    "      GradientBoostingRegressor(random_state=42))],\n",
    "    memory=mkdtemp())"
   ]
  },
  {
   "cell_type": "code",
   "execution_count": 10,
   "metadata": {},
   "outputs": [],
   "source": [
    "parameters = {\n",
    "    'reg_model__learning_rate': (0.1, 0.3),\n",
    "    'reg_model__subsample': (0.75, 0.85),\n",
    "    'reg_model__max_features': ('sqrt', 'log2')}\n",
    "\n",
    "search = (GridSearchCV(\n",
    "    estimator=pipe_upd,\n",
    "    param_grid=parameters,\n",
    "    scoring='neg_root_mean_squared_error',\n",
    "    cv=5,\n",
    "    refit=False)\n",
    "    .fit(X, y))"
   ]
  },
  {
   "cell_type": "code",
   "execution_count": 11,
   "metadata": {},
   "outputs": [],
   "source": [
    "parameters_best = search.best_params_\n",
    "pipe_upd = pipe_upd.set_params(**parameters_best)\n",
    "\n",
    "model_upd = pipe_upd.fit(X, y)"
   ]
  },
  {
   "cell_type": "code",
   "execution_count": 12,
   "metadata": {},
   "outputs": [
    {
     "name": "stdout",
     "output_type": "stream",
     "text": [
      "Pipe's RMSE on CV: 1087.1\n"
     ]
    }
   ],
   "source": [
    "cv_results_upd = cross_val_score(\n",
    "    estimator=pipe_upd,\n",
    "    X=X,\n",
    "    y=y,\n",
    "    scoring='neg_root_mean_squared_error',\n",
    "    cv=5)\n",
    "\n",
    "rmse_cv_upd = np.abs(cv_results_upd).mean()\n",
    "\n",
    "print(f\"Pipe's RMSE on CV: {rmse_cv_upd:.1f}\")"
   ]
  },
  {
   "cell_type": "markdown",
   "metadata": {},
   "source": [
    "### Логування модифікованого ML-конвеєра"
   ]
  },
  {
   "cell_type": "code",
   "execution_count": 13,
   "metadata": {},
   "outputs": [
    {
     "name": "stderr",
     "output_type": "stream",
     "text": [
      "Successfully registered model 'model_upd_tracking'.\n",
      "2024/04/25 11:08:27 INFO mlflow.store.model_registry.abstract_store: Waiting up to 300 seconds for model version to finish creation. Model name: model_upd_tracking, version 1\n",
      "Created version '1' of model 'model_upd_tracking'.\n"
     ]
    }
   ],
   "source": [
    "with mlflow.start_run(run_name='gbr'):\n",
    "    \n",
    "    with warnings.catch_warnings():\n",
    "        warnings.simplefilter('ignore')\n",
    "        \n",
    "        mlflow.log_params(pipe_upd.named_steps['reg_model'].get_params())\n",
    "        mlflow.log_metric('cv_rmse_score', rmse_cv_upd)\n",
    "        mlflow.set_tag('Model', 'GradientBoosting model for BigMart')\n",
    "                \n",
    "        signature = mlflow.models.infer_signature(\n",
    "            X.head(),\n",
    "            model_upd.predict(X.head()))\n",
    "\n",
    "        model_info = mlflow.sklearn.log_model(\n",
    "            sk_model=model_upd,\n",
    "            artifact_path='model_upd',\n",
    "            signature=signature,\n",
    "            input_example=X.head(),\n",
    "            registered_model_name='model_upd_tracking')"
   ]
  },
  {
   "cell_type": "markdown",
   "metadata": {},
   "source": [
    "# Практика використання MLFlow Tracking. Запуск MLFlow Tracking і навчання моделей"
   ]
  },
  {
   "cell_type": "markdown",
   "metadata": {},
   "source": [
    "```sh\n",
    "mlflow server --host 127.0.0.1 --port 8080\n",
    "```"
   ]
  },
  {
   "cell_type": "markdown",
   "metadata": {},
   "source": [
    "![](../images/mlf_course_mlflow.png)"
   ]
  },
  {
   "cell_type": "code",
   "execution_count": 14,
   "metadata": {},
   "outputs": [
    {
     "data": {
      "text/html": [
       "<div>\n",
       "<style scoped>\n",
       "    .dataframe tbody tr th:only-of-type {\n",
       "        vertical-align: middle;\n",
       "    }\n",
       "\n",
       "    .dataframe tbody tr th {\n",
       "        vertical-align: top;\n",
       "    }\n",
       "\n",
       "    .dataframe thead th {\n",
       "        text-align: right;\n",
       "    }\n",
       "</style>\n",
       "<table border=\"1\" class=\"dataframe\">\n",
       "  <thead>\n",
       "    <tr style=\"text-align: right;\">\n",
       "      <th></th>\n",
       "      <th>tags.Model</th>\n",
       "      <th>metrics.cv_rmse_score</th>\n",
       "    </tr>\n",
       "  </thead>\n",
       "  <tbody>\n",
       "    <tr>\n",
       "      <th>0</th>\n",
       "      <td>GradientBoosting model for BigMart</td>\n",
       "      <td>1087.111302</td>\n",
       "    </tr>\n",
       "  </tbody>\n",
       "</table>\n",
       "</div>"
      ],
      "text/plain": [
       "                           tags.Model  metrics.cv_rmse_score\n",
       "0  GradientBoosting model for BigMart            1087.111302"
      ]
     },
     "execution_count": 14,
     "metadata": {},
     "output_type": "execute_result"
    }
   ],
   "source": [
    "best_run = (mlflow\n",
    "            .search_runs(\n",
    "                experiment_names=['MLflow Tracking'],\n",
    "                order_by=['metrics.cv_rmse_score'],\n",
    "                max_results=1))\n",
    "\n",
    "best_run[['tags.Model', 'metrics.cv_rmse_score']]"
   ]
  }
 ],
 "metadata": {
  "anaconda-cloud": {},
  "kernelspec": {
   "display_name": "Python 3 (Spyder)",
   "language": "python3",
   "name": "python3"
  },
  "language_info": {
   "codemirror_mode": {
    "name": "ipython",
    "version": 3
   },
   "file_extension": ".py",
   "mimetype": "text/x-python",
   "name": "python",
   "nbconvert_exporter": "python",
   "pygments_lexer": "ipython3",
   "version": "3.11.9"
  }
 },
 "nbformat": 4,
 "nbformat_minor": 4
}
